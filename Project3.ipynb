{
 "cells": [
  {
   "cell_type": "markdown",
   "metadata": {},
   "source": [
    "<h2>DATA 620 - Project 3</h2>\n",
    "<h3>Name Gender Classifier</h3>\n",
    "\n",
    "<h3>Joby John</h3>"
   ]
  },
  {
   "cell_type": "markdown",
   "metadata": {},
   "source": [
    "<h3>Assignment</h3>\n",
    "\n",
    "Using any of the three classifiers described in chapter 6 of Natural Language Processing with Python, and any features you can think of, build the best name gender classifier you can.\n",
    "\n",
    "We will split dataset into three subsets. 80% data for training, 10 % data for dev-test and 10 %  for testing. We are mainting to the seperate test and dev-test. \n",
    "\n",
    "We will compare the performance of different classifiers on these datasets.\n"
   ]
  },
  {
   "cell_type": "markdown",
   "metadata": {},
   "source": [
    "<h3>Libraries</h3>"
   ]
  },
  {
   "cell_type": "code",
   "execution_count": 1,
   "metadata": {},
   "outputs": [],
   "source": [
    "import nltk\n",
    "import pandas as pd\n",
    "import random\n",
    "from nltk.corpus import names\n",
    "from nltk.classify import apply_features\n",
    "import collections\n",
    "import nltk.metrics\n",
    "from nltk.metrics import precision,recall,f_measure\n",
    "import numpy as np\n",
    "import matplotlib.pyplot as plt"
   ]
  },
  {
   "cell_type": "markdown",
   "metadata": {},
   "source": [
    "<h3>Data</h3>\n",
    "\n",
    "We will import the male and female ness from NLTk librarby and shuffle the names so the sampling is random acorss all the names.  'male.txt' contains 2943 names and 'female.txt' contains 5001 names. "
   ]
  },
  {
   "cell_type": "code",
   "execution_count": 2,
   "metadata": {},
   "outputs": [
    {
     "name": "stdout",
     "output_type": "stream",
     "text": [
      "2943\n",
      "5001\n"
     ]
    }
   ],
   "source": [
    "random.seed(100)\n",
    "\n",
    "print(len(names.words('male.txt')))\n",
    "print(len(names.words('female.txt')))\n",
    "      \n",
    "names = ([(name, 'male') for name in names.words('male.txt')] +\n",
    "[(name, 'female') for name in names.words('female.txt')])\n",
    "\n",
    "# and to make sure we are sampling across all the names\n",
    "# we shuffle them so they aren't alphabetical\n",
    "random.shuffle(names)"
   ]
  },
  {
   "cell_type": "markdown",
   "metadata": {},
   "source": [
    "<h4>Sample Data</h4>\n",
    "Belows we print some of the names in the dataset. "
   ]
  },
  {
   "cell_type": "code",
   "execution_count": 3,
   "metadata": {},
   "outputs": [
    {
     "name": "stdout",
     "output_type": "stream",
     "text": [
      "[('Pembroke', 'male'), ('Bryant', 'male'), ('Pier', 'female'), ('Florice', 'female'), ('Clint', 'male'), ('Ruthanne', 'female'), ('Upton', 'male'), ('Yetty', 'female'), ('Silvie', 'female'), ('Lizzie', 'female')]\n"
     ]
    }
   ],
   "source": [
    "#list names\n",
    " \n",
    "print(names[:10])"
   ]
  },
  {
   "cell_type": "markdown",
   "metadata": {},
   "source": [
    "<h4>Split dataset : Train, Dev-Test and Test </h4>\n",
    "We will 10%(800 names) data fort Test and Dev-Test. 80%(6344) the data will be used for training. "
   ]
  },
  {
   "cell_type": "code",
   "execution_count": 4,
   "metadata": {
    "scrolled": true
   },
   "outputs": [
    {
     "name": "stdout",
     "output_type": "stream",
     "text": [
      "Total Names :  7944\n"
     ]
    }
   ],
   "source": [
    "print(\"Total Names : \" , len(names))"
   ]
  },
  {
   "cell_type": "code",
   "execution_count": 5,
   "metadata": {},
   "outputs": [
    {
     "name": "stdout",
     "output_type": "stream",
     "text": [
      "Test Set Count :  800\n",
      "dev test set :  800\n",
      "train set:  6344\n"
     ]
    }
   ],
   "source": [
    "test_set = names[:800]\n",
    "print(\"Test Set Count : \" , len(test_set))\n",
    "devtest_set = names[800:1600] \n",
    "print(\"dev test set : \" , len(devtest_set))\n",
    "train_set = names[1600:]\n",
    "print(\"train set: \" , len(train_set))"
   ]
  },
  {
   "cell_type": "markdown",
   "metadata": {},
   "source": [
    "<h3>Feature Set - Gender</h3>\n",
    "We will define the features set as the first letter, last letter, last two letters, first two letters, number of vowles and has letter in the vowel. \n",
    "We will use Navie Bayes and Decision Trees and compare their performance to see which is good at predicting."
   ]
  },
  {
   "cell_type": "code",
   "execution_count": 6,
   "metadata": {},
   "outputs": [],
   "source": [
    "def features(name):\n",
    "    f = {}\n",
    "    f[\"first\"] = name[0].lower()\n",
    "    f[\"last\"] = name[-1].lower()\n",
    "    f[\"suffix2\"]= name[-2:].lower()\n",
    "    f[\"preffix2\"]= name[:2].lower()\n",
    "    for letter in 'aeiou':\n",
    "        f[\"count(%s)\" % letter] = name.lower().count(letter)\n",
    "        f[\"has(%s)\" % letter] = (letter in name.lower())\n",
    "    return f"
   ]
  },
  {
   "cell_type": "code",
   "execution_count": 7,
   "metadata": {},
   "outputs": [],
   "source": [
    "featuresets = [(features(n), g) for (n,g) in names]"
   ]
  },
  {
   "cell_type": "code",
   "execution_count": 8,
   "metadata": {},
   "outputs": [],
   "source": [
    "train_f = featuresets[1000:]\n",
    "test_f = featuresets[:500]\n",
    "devtest_f =featuresets[500:1000]"
   ]
  },
  {
   "cell_type": "markdown",
   "metadata": {},
   "source": [
    "<h3>Naive Bayes </h3>\n",
    "We will use Naive Bayes classifier and calculate Accuracy, Recall, Precision and F_Measure"
   ]
  },
  {
   "cell_type": "code",
   "execution_count": 9,
   "metadata": {
    "scrolled": true
   },
   "outputs": [],
   "source": [
    "nbclassifier = nltk.NaiveBayesClassifier.train(train_f)"
   ]
  },
  {
   "cell_type": "markdown",
   "metadata": {},
   "source": [
    "<h4>Calculate Metrics: Accuracy, Recall, Precision, F_Measure </h4>"
   ]
  },
  {
   "cell_type": "code",
   "execution_count": 10,
   "metadata": {},
   "outputs": [],
   "source": [
    "def getMetrics(cls, dataset ):\n",
    "    refsets = collections.defaultdict(set)\n",
    "    testsets = collections.defaultdict(set)\n",
    "\n",
    "    for i, (f, label) in enumerate(dataset):\n",
    "        refsets[label].add(i)\n",
    "        observed = cls.classify(f)\n",
    "        testsets[observed].add(i)\n",
    "\n",
    "    a = nltk.classify.accuracy(cls, dataset)\n",
    "    p = (precision(refsets['male'], testsets['male'])+precision(refsets['male'], testsets['female']))/2\n",
    "    r = (recall(refsets['male'], testsets['male'])+recall(refsets['male'], testsets['female']))/2\n",
    "    f = (f_measure(refsets['male'], testsets['male'])+f_measure(refsets['male'], testsets['female']))/2\n",
    "\n",
    "    return (a, p,r,f)\n"
   ]
  },
  {
   "cell_type": "code",
   "execution_count": 11,
   "metadata": {},
   "outputs": [
    {
     "name": "stdout",
     "output_type": "stream",
     "text": [
      "[0.808323732718894, 0.4347615145765051, 0.5, 0.46174407493051245]\n",
      "       Accuracy  Precision  Recall  F_Measure\n",
      "Train  0.808324   0.434762     0.5   0.461744\n",
      "Test   0.772000   0.407191     0.5   0.444694\n",
      "Dev    0.804000   0.444895     0.5   0.466066\n"
     ]
    }
   ],
   "source": [
    "\n",
    "\n",
    "accuracy_train, avg_precision_train, avg_recall_train, avg_f_measure_train = getMetrics(nbclassifier, train_f)\n",
    " \n",
    "accuracy_test ,  avg_precision_test ,avg_recall_test , avg_f_measure_test = getMetrics(nbclassifier, test_f)\n",
    "\n",
    "accuracy_dev ,  avg_precision_dev ,avg_recall_dev , avg_f_measure_dev = getMetrics(nbclassifier, devtest_f)\n",
    "\n",
    " \n",
    "accuracy_naive_final = [accuracy_train,accuracy_test,accuracy_dev]\n",
    "precision_naive_final = [avg_precision_train,avg_precision_test,avg_precision_dev]\n",
    "recall_naive_final = [avg_recall_train,avg_recall_test,avg_recall_dev]\n",
    "f_measure_naive_final = [avg_f_measure_train,avg_f_measure_test,avg_f_measure_dev]\n",
    "\n",
    "naive_final_train = [accuracy_train,avg_precision_train,avg_recall_train,avg_f_measure_train]\n",
    "naive_final_test = [accuracy_test,avg_precision_test,avg_recall_test,avg_f_measure_test]\n",
    "naive_final_dev = [accuracy_dev,avg_precision_dev,avg_recall_dev,avg_f_measure_dev]\n",
    "naive_combined = {'Accuracy':accuracy_naive_final,'Precision':precision_naive_final,'Recall':recall_naive_final,'F_Measure':f_measure_naive_final}\n",
    "print(naive_final_train)\n",
    "df_naive = pd.DataFrame(naive_combined,index=['Train','Test','Dev'],columns=['Accuracy','Precision','Recall','F_Measure'])\n",
    "print(df_naive)"
   ]
  },
  {
   "cell_type": "markdown",
   "metadata": {},
   "source": [
    "<h4>Naive Baiyer features </h4>"
   ]
  },
  {
   "cell_type": "code",
   "execution_count": 12,
   "metadata": {
    "scrolled": true
   },
   "outputs": [
    {
     "name": "stdout",
     "output_type": "stream",
     "text": [
      "Most Informative Features\n",
      "                 suffix2 = 'na'           female : male   =     92.8 : 1.0\n",
      "                 suffix2 = 'ia'           female : male   =     88.7 : 1.0\n",
      "                 suffix2 = 'la'           female : male   =     71.0 : 1.0\n",
      "                    last = 'a'            female : male   =     34.9 : 1.0\n",
      "                 suffix2 = 'sa'           female : male   =     34.8 : 1.0\n",
      "                 suffix2 = 'ra'           female : male   =     34.2 : 1.0\n",
      "                 suffix2 = 'ld'             male : female =     32.6 : 1.0\n",
      "                    last = 'k'              male : female =     30.1 : 1.0\n",
      "                 suffix2 = 'us'             male : female =     25.8 : 1.0\n",
      "                 suffix2 = 'do'             male : female =     24.8 : 1.0\n",
      "                 suffix2 = 'ta'           female : male   =     24.1 : 1.0\n",
      "                 suffix2 = 'rd'             male : female =     22.3 : 1.0\n",
      "                 suffix2 = 'rt'             male : female =     22.0 : 1.0\n",
      "                    last = 'f'              male : female =     16.5 : 1.0\n",
      "                 suffix2 = 'io'             male : female =     16.2 : 1.0\n",
      "                 suffix2 = 'im'             male : female =     16.0 : 1.0\n",
      "                 suffix2 = 'ch'             male : female =     15.6 : 1.0\n",
      "                preffix2 = 'hu'             male : female =     14.9 : 1.0\n",
      "                preffix2 = 'fo'             male : female =     14.9 : 1.0\n",
      "                    last = 'v'              male : female =     14.1 : 1.0\n"
     ]
    }
   ],
   "source": [
    "\n",
    "nbclassifier.show_most_informative_features(20)"
   ]
  },
  {
   "cell_type": "markdown",
   "metadata": {},
   "source": [
    "<h4>Calculate erorr rate</h4>"
   ]
  },
  {
   "cell_type": "code",
   "execution_count": 13,
   "metadata": {},
   "outputs": [],
   "source": [
    "# Check errors\n",
    "errors = []\n",
    "for (name, tag) in devtest_set:\n",
    "    guess = nbclassifier.classify(features(name))\n",
    "    if guess != tag:\n",
    "        errors.append( (tag, guess, name) )"
   ]
  },
  {
   "cell_type": "code",
   "execution_count": 14,
   "metadata": {},
   "outputs": [
    {
     "name": "stdout",
     "output_type": "stream",
     "text": [
      "correct=female   guess=male     name=Adelind                       \n",
      "correct=female   guess=male     name=Aubrey                        \n",
      "correct=female   guess=male     name=Austin                        \n",
      "correct=female   guess=male     name=Avrit                         \n",
      "correct=female   guess=male     name=Barb                          \n",
      "correct=female   guess=male     name=Beau                          \n",
      "correct=female   guess=male     name=Bel                           \n",
      "correct=female   guess=male     name=Berry                         \n",
      "correct=female   guess=male     name=Bill                          \n",
      "correct=female   guess=male     name=Birgit                        \n",
      "correct=female   guess=male     name=Bridgett                      \n",
      "correct=female   guess=male     name=Charmion                      \n",
      "correct=female   guess=male     name=Clair                         \n",
      "correct=female   guess=male     name=Courtney                      \n",
      "correct=female   guess=male     name=Devin                         \n",
      "correct=female   guess=male     name=Dolley                        \n",
      "correct=female   guess=male     name=Dolores                       \n",
      "correct=female   guess=male     name=Doreen                        \n",
      "correct=female   guess=male     name=Ellen                         \n",
      "correct=female   guess=male     name=Enid                          \n",
      "correct=female   guess=male     name=Eran                          \n",
      "correct=female   guess=male     name=Eryn                          \n",
      "correct=female   guess=male     name=Ester                         \n",
      "correct=female   guess=male     name=Evvy                          \n",
      "correct=female   guess=male     name=Flore                         \n",
      "correct=female   guess=male     name=Gert                          \n",
      "correct=female   guess=male     name=Glen                          \n",
      "correct=female   guess=male     name=Glory                         \n",
      "correct=female   guess=male     name=Goldy                         \n",
      "correct=female   guess=male     name=Gretel                        \n",
      "correct=female   guess=male     name=Grier                         \n",
      "correct=female   guess=male     name=Gussy                         \n",
      "correct=female   guess=male     name=Gustie                        \n",
      "correct=female   guess=male     name=Gusty                         \n",
      "correct=female   guess=male     name=Happy                         \n",
      "correct=female   guess=male     name=Harriott                      \n",
      "correct=female   guess=male     name=Helyn                         \n",
      "correct=female   guess=male     name=Hester                        \n",
      "correct=female   guess=male     name=Holley                        \n",
      "correct=female   guess=male     name=Ike                           \n",
      "correct=female   guess=male     name=Iris                          \n",
      "correct=female   guess=male     name=Jan                           \n",
      "correct=female   guess=male     name=Jen                           \n",
      "correct=female   guess=male     name=Jess                          \n",
      "correct=female   guess=male     name=Joselyn                       \n",
      "correct=female   guess=male     name=Josey                         \n",
      "correct=female   guess=male     name=Koo                           \n",
      "correct=female   guess=male     name=Leanor                        \n",
      "correct=female   guess=male     name=Melloney                      \n",
      "correct=female   guess=male     name=Min                           \n",
      "correct=female   guess=male     name=Modesty                       \n",
      "correct=female   guess=male     name=Muffin                        \n",
      "correct=female   guess=male     name=Nat                           \n",
      "correct=female   guess=male     name=Nert                          \n",
      "correct=female   guess=male     name=Nichol                        \n",
      "correct=female   guess=male     name=Ninon                         \n",
      "correct=female   guess=male     name=Pearl                         \n",
      "correct=female   guess=male     name=Phoebe                        \n",
      "correct=female   guess=male     name=Quinn                         \n",
      "correct=female   guess=male     name=Rachel                        \n",
      "correct=female   guess=male     name=Rakel                         \n",
      "correct=female   guess=male     name=Robin                         \n",
      "correct=female   guess=male     name=Rosalyn                       \n",
      "correct=female   guess=male     name=Roz                           \n",
      "correct=female   guess=male     name=Rubie                         \n",
      "correct=female   guess=male     name=Scarlett                      \n",
      "correct=female   guess=male     name=Sherry                        \n",
      "correct=female   guess=male     name=Stormy                        \n",
      "correct=female   guess=male     name=Suzy                          \n",
      "correct=female   guess=male     name=Tracy                         \n",
      "correct=female   guess=male     name=Ulrike                        \n",
      "correct=female   guess=male     name=Wallie                        \n",
      "correct=female   guess=male     name=Whitney                       \n",
      "correct=female   guess=male     name=Willie                        \n",
      "correct=female   guess=male     name=Winifred                      \n",
      "correct=female   guess=male     name=Zoe                           \n",
      "correct=male     guess=female   name=Adrien                        \n",
      "correct=male     guess=female   name=Alexis                        \n",
      "correct=male     guess=female   name=Alwin                         \n",
      "correct=male     guess=female   name=Andrea                        \n",
      "correct=male     guess=female   name=Ari                           \n",
      "correct=male     guess=female   name=Ariel                         \n",
      "correct=male     guess=female   name=Arvin                         \n",
      "correct=male     guess=female   name=Barde                         \n",
      "correct=male     guess=female   name=Barrie                        \n",
      "correct=male     guess=female   name=Bela                          \n",
      "correct=male     guess=female   name=Bertie                        \n",
      "correct=male     guess=female   name=Billy                         \n",
      "correct=male     guess=female   name=Clarance                      \n",
      "correct=male     guess=female   name=Claybourne                    \n",
      "correct=male     guess=female   name=Dane                          \n",
      "correct=male     guess=female   name=Darien                        \n",
      "correct=male     guess=female   name=Darin                         \n",
      "correct=male     guess=female   name=Darth                         \n",
      "correct=male     guess=female   name=Davie                         \n",
      "correct=male     guess=female   name=Davy                          \n",
      "correct=male     guess=female   name=Deane                         \n",
      "correct=male     guess=female   name=Dennie                        \n",
      "correct=male     guess=female   name=Dmitri                        \n",
      "correct=male     guess=female   name=Douggie                       \n",
      "correct=male     guess=female   name=Duane                         \n",
      "correct=male     guess=female   name=Durante                       \n",
      "correct=male     guess=female   name=Edie                          \n",
      "correct=male     guess=female   name=Elwyn                         \n",
      "correct=male     guess=female   name=Emile                         \n",
      "correct=male     guess=female   name=Etienne                       \n",
      "correct=male     guess=female   name=Fairfax                       \n",
      "correct=male     guess=female   name=Felice                        \n",
      "correct=male     guess=female   name=Gabriele                      \n",
      "correct=male     guess=female   name=Gavriel                       \n",
      "correct=male     guess=female   name=Gayle                         \n",
      "correct=male     guess=female   name=Georgia                       \n",
      "correct=male     guess=female   name=Geri                          \n",
      "correct=male     guess=female   name=Hannibal                      \n",
      "correct=male     guess=female   name=Henrie                        \n",
      "correct=male     guess=female   name=Hymie                         \n",
      "correct=male     guess=female   name=Immanuel                      \n",
      "correct=male     guess=female   name=Isidore                       \n",
      "correct=male     guess=female   name=Jamey                         \n",
      "correct=male     guess=female   name=Jamie                         \n",
      "correct=male     guess=female   name=Jessee                        \n",
      "correct=male     guess=female   name=Jessie                        \n",
      "correct=male     guess=female   name=Jimmy                         \n",
      "correct=male     guess=female   name=Karl                          \n",
      "correct=male     guess=female   name=Kaspar                        \n",
      "correct=male     guess=female   name=Kendal                        \n",
      "correct=male     guess=female   name=Kermie                        \n",
      "correct=male     guess=female   name=Kin                           \n",
      "correct=male     guess=female   name=Laurence                      \n",
      "correct=male     guess=female   name=Lazare                        \n",
      "correct=male     guess=female   name=Leigh                         \n",
      "correct=male     guess=female   name=Lindsay                       \n",
      "correct=male     guess=female   name=Linoel                        \n",
      "correct=male     guess=female   name=Maddie                        \n",
      "correct=male     guess=female   name=Manny                         \n",
      "correct=male     guess=female   name=Martin                        \n",
      "correct=male     guess=female   name=Marve                         \n",
      "correct=male     guess=female   name=Marwin                        \n",
      "correct=male     guess=female   name=Mikey                         \n",
      "correct=male     guess=female   name=Nathanial                     \n",
      "correct=male     guess=female   name=Nikki                         \n",
      "correct=male     guess=female   name=Noble                         \n",
      "correct=male     guess=female   name=Page                          \n",
      "correct=male     guess=female   name=Pascale                       \n",
      "correct=male     guess=female   name=Patrice                       \n",
      "correct=male     guess=female   name=Rafael                        \n",
      "correct=male     guess=female   name=Ritchie                       \n",
      "correct=male     guess=female   name=Roddie                        \n",
      "correct=male     guess=female   name=Sebastien                     \n",
      "correct=male     guess=female   name=Simone                        \n",
      "correct=male     guess=female   name=Tally                         \n",
      "correct=male     guess=female   name=Terence                       \n",
      "correct=male     guess=female   name=Vasili                        \n",
      "correct=male     guess=female   name=Verge                         \n",
      "correct=male     guess=female   name=Vijay                         \n"
     ]
    }
   ],
   "source": [
    "for (tag, guess, name) in sorted(errors):\n",
    "    print('correct=%-8s guess=%-8s name=%-30s' % (tag, guess, name))"
   ]
  },
  {
   "cell_type": "markdown",
   "metadata": {},
   "source": [
    "<h4>Error Count - NB</h4>"
   ]
  },
  {
   "cell_type": "code",
   "execution_count": 15,
   "metadata": {
    "scrolled": true
   },
   "outputs": [
    {
     "name": "stdout",
     "output_type": "stream",
     "text": [
      "Error count:  155\n"
     ]
    }
   ],
   "source": [
    "naive_errors = len(errors)\n",
    "print(\"Error count: \", naive_errors)"
   ]
  },
  {
   "cell_type": "markdown",
   "metadata": {},
   "source": [
    "<h3>Decision Tree</h3>"
   ]
  },
  {
   "cell_type": "markdown",
   "metadata": {},
   "source": [
    "We will use Decision Tree classifier and calculate Accuracy, Recall, Precision and F_Measure"
   ]
  },
  {
   "cell_type": "code",
   "execution_count": 16,
   "metadata": {},
   "outputs": [],
   "source": [
    "dtclassifier = nltk.DecisionTreeClassifier.train(train_f)"
   ]
  },
  {
   "cell_type": "markdown",
   "metadata": {},
   "source": [
    "<h4>Calculate Metrics</h4>"
   ]
  },
  {
   "cell_type": "code",
   "execution_count": 17,
   "metadata": {},
   "outputs": [
    {
     "name": "stdout",
     "output_type": "stream",
     "text": [
      "[0.9354838709677419, 0.4978088415309307, 0.5, 0.4955517454714082]\n",
      "       Accuracy  Precision  Recall  F_Measure\n",
      "Train  0.935484   0.497809     0.5   0.495552\n",
      "Test   0.772000   0.422845     0.5   0.450518\n",
      "Dev    0.764000   0.452701     0.5   0.465040\n"
     ]
    }
   ],
   "source": [
    "accuracy_train_dt, avg_precision_train_dt, avg_recall_train_dt , avg_f_measure_train_dt = getMetrics(dtclassifier, train_f)\n",
    " \n",
    "accuracy_test_dt, avg_precision_test_dt, avg_recall_test_dt , avg_f_measure_test_dt = getMetrics(dtclassifier, test_f)\n",
    "\n",
    "accuracy_dev_dt, avg_precision_dev_dt, avg_recall_dev_dt , avg_f_measure_dev_dt = getMetrics(dtclassifier, devtest_f)\n",
    "\n",
    " \n",
    "accuracy_dt_final = [accuracy_train_dt,accuracy_test_dt,accuracy_dev_dt]\n",
    "precision_dt_final = [avg_precision_train_dt,avg_precision_test_dt,avg_precision_dev_dt]\n",
    "recall_dt_final = [avg_recall_train_dt,avg_recall_test_dt,avg_recall_dev_dt]\n",
    "f_measure_dt_final = [avg_f_measure_train_dt,avg_f_measure_test_dt,avg_f_measure_dev_dt]\n",
    "\n",
    "dt_final_train = [accuracy_train_dt,avg_precision_train_dt,avg_recall_train_dt,avg_f_measure_train_dt]\n",
    "dt_final_test = [accuracy_test_dt,avg_precision_test_dt,avg_recall_test_dt,avg_f_measure_test_dt]\n",
    "dt_final_dev = [accuracy_dev_dt,avg_precision_dev_dt,avg_recall_dev_dt,avg_f_measure_dev_dt]\n",
    "dt_combined = {'Accuracy':accuracy_dt_final,'Precision':precision_dt_final,'Recall':recall_dt_final,'F_Measure':f_measure_dt_final}\n",
    "df_dt = pd.DataFrame(dt_combined,index=['Train','Test','Dev'],columns=['Accuracy','Precision','Recall','F_Measure'])\n",
    "print(dt_final_train)\n",
    "print(df_dt)"
   ]
  },
  {
   "cell_type": "markdown",
   "metadata": {},
   "source": [
    "<h4>Calculate error rate </h4>"
   ]
  },
  {
   "cell_type": "code",
   "execution_count": 18,
   "metadata": {},
   "outputs": [],
   "source": [
    "errors2 = []\n",
    "for (name, tag) in devtest_set:\n",
    "    guess = dtclassifier.classify(features(name))\n",
    "    if guess != tag:\n",
    "        errors2.append( (tag, guess, name) )"
   ]
  },
  {
   "cell_type": "code",
   "execution_count": 19,
   "metadata": {},
   "outputs": [
    {
     "name": "stdout",
     "output_type": "stream",
     "text": [
      "correct=female   guess=male     name=Adelind                       \n",
      "correct=female   guess=male     name=Aubrey                        \n",
      "correct=female   guess=male     name=Austin                        \n",
      "correct=female   guess=male     name=Avrit                         \n",
      "correct=female   guess=male     name=Barb                          \n",
      "correct=female   guess=male     name=Beau                          \n",
      "correct=female   guess=male     name=Bel                           \n",
      "correct=female   guess=male     name=Berry                         \n",
      "correct=female   guess=male     name=Bill                          \n",
      "correct=female   guess=male     name=Birgit                        \n",
      "correct=female   guess=male     name=Bridgett                      \n",
      "correct=female   guess=male     name=Charmion                      \n",
      "correct=female   guess=male     name=Clair                         \n",
      "correct=female   guess=male     name=Courtney                      \n",
      "correct=female   guess=male     name=Devin                         \n",
      "correct=female   guess=male     name=Dolley                        \n",
      "correct=female   guess=male     name=Dolores                       \n",
      "correct=female   guess=male     name=Doreen                        \n",
      "correct=female   guess=male     name=Ellen                         \n",
      "correct=female   guess=male     name=Enid                          \n",
      "correct=female   guess=male     name=Eran                          \n",
      "correct=female   guess=male     name=Eryn                          \n",
      "correct=female   guess=male     name=Ester                         \n",
      "correct=female   guess=male     name=Evvy                          \n",
      "correct=female   guess=male     name=Flore                         \n",
      "correct=female   guess=male     name=Gert                          \n",
      "correct=female   guess=male     name=Glen                          \n",
      "correct=female   guess=male     name=Glory                         \n",
      "correct=female   guess=male     name=Goldy                         \n",
      "correct=female   guess=male     name=Gretel                        \n",
      "correct=female   guess=male     name=Grier                         \n",
      "correct=female   guess=male     name=Gussy                         \n",
      "correct=female   guess=male     name=Gustie                        \n",
      "correct=female   guess=male     name=Gusty                         \n",
      "correct=female   guess=male     name=Happy                         \n",
      "correct=female   guess=male     name=Harriott                      \n",
      "correct=female   guess=male     name=Helyn                         \n",
      "correct=female   guess=male     name=Hester                        \n",
      "correct=female   guess=male     name=Holley                        \n",
      "correct=female   guess=male     name=Ike                           \n",
      "correct=female   guess=male     name=Iris                          \n",
      "correct=female   guess=male     name=Jan                           \n",
      "correct=female   guess=male     name=Jen                           \n",
      "correct=female   guess=male     name=Jess                          \n",
      "correct=female   guess=male     name=Joselyn                       \n",
      "correct=female   guess=male     name=Josey                         \n",
      "correct=female   guess=male     name=Koo                           \n",
      "correct=female   guess=male     name=Leanor                        \n",
      "correct=female   guess=male     name=Melloney                      \n",
      "correct=female   guess=male     name=Min                           \n",
      "correct=female   guess=male     name=Modesty                       \n",
      "correct=female   guess=male     name=Muffin                        \n",
      "correct=female   guess=male     name=Nat                           \n",
      "correct=female   guess=male     name=Nert                          \n",
      "correct=female   guess=male     name=Nichol                        \n",
      "correct=female   guess=male     name=Ninon                         \n",
      "correct=female   guess=male     name=Pearl                         \n",
      "correct=female   guess=male     name=Phoebe                        \n",
      "correct=female   guess=male     name=Quinn                         \n",
      "correct=female   guess=male     name=Rachel                        \n",
      "correct=female   guess=male     name=Rakel                         \n",
      "correct=female   guess=male     name=Robin                         \n",
      "correct=female   guess=male     name=Rosalyn                       \n",
      "correct=female   guess=male     name=Roz                           \n",
      "correct=female   guess=male     name=Rubie                         \n",
      "correct=female   guess=male     name=Scarlett                      \n",
      "correct=female   guess=male     name=Sherry                        \n",
      "correct=female   guess=male     name=Stormy                        \n",
      "correct=female   guess=male     name=Suzy                          \n",
      "correct=female   guess=male     name=Tracy                         \n",
      "correct=female   guess=male     name=Ulrike                        \n",
      "correct=female   guess=male     name=Wallie                        \n",
      "correct=female   guess=male     name=Whitney                       \n",
      "correct=female   guess=male     name=Willie                        \n",
      "correct=female   guess=male     name=Winifred                      \n",
      "correct=female   guess=male     name=Zoe                           \n",
      "correct=male     guess=female   name=Adrien                        \n",
      "correct=male     guess=female   name=Alexis                        \n",
      "correct=male     guess=female   name=Alwin                         \n",
      "correct=male     guess=female   name=Andrea                        \n",
      "correct=male     guess=female   name=Ari                           \n",
      "correct=male     guess=female   name=Ariel                         \n",
      "correct=male     guess=female   name=Arvin                         \n",
      "correct=male     guess=female   name=Barde                         \n",
      "correct=male     guess=female   name=Barrie                        \n",
      "correct=male     guess=female   name=Bela                          \n",
      "correct=male     guess=female   name=Bertie                        \n",
      "correct=male     guess=female   name=Billy                         \n",
      "correct=male     guess=female   name=Clarance                      \n",
      "correct=male     guess=female   name=Claybourne                    \n",
      "correct=male     guess=female   name=Dane                          \n",
      "correct=male     guess=female   name=Darien                        \n",
      "correct=male     guess=female   name=Darin                         \n",
      "correct=male     guess=female   name=Darth                         \n",
      "correct=male     guess=female   name=Davie                         \n",
      "correct=male     guess=female   name=Davy                          \n",
      "correct=male     guess=female   name=Deane                         \n",
      "correct=male     guess=female   name=Dennie                        \n",
      "correct=male     guess=female   name=Dmitri                        \n",
      "correct=male     guess=female   name=Douggie                       \n",
      "correct=male     guess=female   name=Duane                         \n",
      "correct=male     guess=female   name=Durante                       \n",
      "correct=male     guess=female   name=Edie                          \n",
      "correct=male     guess=female   name=Elwyn                         \n",
      "correct=male     guess=female   name=Emile                         \n",
      "correct=male     guess=female   name=Etienne                       \n",
      "correct=male     guess=female   name=Fairfax                       \n",
      "correct=male     guess=female   name=Felice                        \n",
      "correct=male     guess=female   name=Gabriele                      \n",
      "correct=male     guess=female   name=Gavriel                       \n",
      "correct=male     guess=female   name=Gayle                         \n",
      "correct=male     guess=female   name=Georgia                       \n",
      "correct=male     guess=female   name=Geri                          \n",
      "correct=male     guess=female   name=Hannibal                      \n",
      "correct=male     guess=female   name=Henrie                        \n",
      "correct=male     guess=female   name=Hymie                         \n",
      "correct=male     guess=female   name=Immanuel                      \n",
      "correct=male     guess=female   name=Isidore                       \n",
      "correct=male     guess=female   name=Jamey                         \n",
      "correct=male     guess=female   name=Jamie                         \n",
      "correct=male     guess=female   name=Jessee                        \n",
      "correct=male     guess=female   name=Jessie                        \n",
      "correct=male     guess=female   name=Jimmy                         \n",
      "correct=male     guess=female   name=Karl                          \n",
      "correct=male     guess=female   name=Kaspar                        \n",
      "correct=male     guess=female   name=Kendal                        \n",
      "correct=male     guess=female   name=Kermie                        \n",
      "correct=male     guess=female   name=Kin                           \n",
      "correct=male     guess=female   name=Laurence                      \n",
      "correct=male     guess=female   name=Lazare                        \n",
      "correct=male     guess=female   name=Leigh                         \n",
      "correct=male     guess=female   name=Lindsay                       \n",
      "correct=male     guess=female   name=Linoel                        \n",
      "correct=male     guess=female   name=Maddie                        \n",
      "correct=male     guess=female   name=Manny                         \n",
      "correct=male     guess=female   name=Martin                        \n",
      "correct=male     guess=female   name=Marve                         \n",
      "correct=male     guess=female   name=Marwin                        \n",
      "correct=male     guess=female   name=Mikey                         \n",
      "correct=male     guess=female   name=Nathanial                     \n",
      "correct=male     guess=female   name=Nikki                         \n",
      "correct=male     guess=female   name=Noble                         \n",
      "correct=male     guess=female   name=Page                          \n",
      "correct=male     guess=female   name=Pascale                       \n",
      "correct=male     guess=female   name=Patrice                       \n",
      "correct=male     guess=female   name=Rafael                        \n",
      "correct=male     guess=female   name=Ritchie                       \n",
      "correct=male     guess=female   name=Roddie                        \n",
      "correct=male     guess=female   name=Sebastien                     \n",
      "correct=male     guess=female   name=Simone                        \n",
      "correct=male     guess=female   name=Tally                         \n",
      "correct=male     guess=female   name=Terence                       \n",
      "correct=male     guess=female   name=Vasili                        \n",
      "correct=male     guess=female   name=Verge                         \n",
      "correct=male     guess=female   name=Vijay                         \n"
     ]
    }
   ],
   "source": [
    "for (tag, guess, name) in sorted(errors): # doctest: +ELLIPSIS +NORMALIZE_WHITESPACE\n",
    "    print('correct=%-8s guess=%-8s name=%-30s' % (tag, guess, name))"
   ]
  },
  {
   "cell_type": "markdown",
   "metadata": {},
   "source": [
    "<h4>Error Count - DT</h4>"
   ]
  },
  {
   "cell_type": "code",
   "execution_count": 20,
   "metadata": {},
   "outputs": [
    {
     "name": "stdout",
     "output_type": "stream",
     "text": [
      "Error count:  76\n"
     ]
    }
   ],
   "source": [
    "dt_errors = len(errors2)\n",
    "print(\"Error count: \", dt_errors)"
   ]
  },
  {
   "cell_type": "markdown",
   "metadata": {},
   "source": [
    "<h3>Comparing Naive Bayes vs Decision Tree </h3>"
   ]
  },
  {
   "cell_type": "code",
   "execution_count": 21,
   "metadata": {},
   "outputs": [],
   "source": [
    "def plotdata (color, color1, label1, label2, setname, nb, dt, error= False):\n",
    "    if(error ) :\n",
    "        n_groups = 1\n",
    "    else :\n",
    "        n_groups = 4 \n",
    "    fig, ax = plt.subplots()\n",
    "    index = np.arange(n_groups)\n",
    "    bar_width = 0.25\n",
    "    opacity = 0.75\n",
    "\n",
    "    rects1 = plt.bar(index, nb, bar_width,\n",
    "    alpha=opacity,\n",
    "    color=color,\n",
    "    label=label1)\n",
    "\n",
    "    rects2 = plt.bar(index + bar_width, dt, bar_width,\n",
    "    alpha=opacity,\n",
    "    color=color1,\n",
    "    label=label2)\n",
    "\n",
    "    plt.xlabel('Metrics')\n",
    "    plt.ylabel('Scores')\n",
    "    plt.title( setname + ' Set - NaiveBayes Vs DecisionTree')\n",
    "    if(not error):\n",
    "        plt.xticks(index + bar_width, ('Accuracy', 'Precision', 'Recall', 'F_Measure'))\n",
    " \n",
    "    plt.legend()\n",
    "\n",
    "    plt.tight_layout()\n",
    "    plt.show()"
   ]
  },
  {
   "cell_type": "markdown",
   "metadata": {},
   "source": [
    "<h3>Conclusion</h3>\n",
    "\n",
    "<h4>How does the performance on the test set compare to the performance on the dev-test set? Is this what you'd expect?</h4>\n",
    "\n",
    "\n"
   ]
  },
  {
   "cell_type": "code",
   "execution_count": 22,
   "metadata": {},
   "outputs": [
    {
     "data": {
      "image/png": "[encoded data removed]",
      "text/plain": [
       "<Figure size 432x288 with 1 Axes>"
      ]
     },
     "metadata": {
      "needs_background": "light"
     },
     "output_type": "display_data"
    },
    {
     "data": {
      "image/png": "[encoded data removed]",
      "text/plain": [
       "<Figure size 432x288 with 1 Axes>"
      ]
     },
     "metadata": {
      "needs_background": "light"
     },
     "output_type": "display_data"
    },
    {
     "data": {
      "image/png": "[encoded data removed]",
      "text/plain": [
       "<Figure size 432x288 with 1 Axes>"
      ]
     },
     "metadata": {
      "needs_background": "light"
     },
     "output_type": "display_data"
    },
    {
     "data": {
      "image/png": "[encoded data removed]",
      "text/plain": [
       "<Figure size 432x288 with 1 Axes>"
      ]
     },
     "metadata": {
      "needs_background": "light"
     },
     "output_type": "display_data"
    }
   ],
   "source": [
    "\n",
    "plotdata('r','g','NaiveBayes','DecisionTree', 'Training',naive_final_train,dt_final_train,False)\n",
    "\n",
    "plotdata('r','g','NaiveBayes','DecisionTree', 'Test',naive_final_test,dt_final_test,False)\n",
    "\n",
    "plotdata('r','g','NaiveBayes','DecisionTree', 'DevTest',naive_final_dev,dt_final_dev,False)\n",
    " \n",
    "plotdata('r','g','NaiveBayes','DecisionTree', 'Error',naive_errors,dt_errors, True )"
   ]
  },
  {
   "cell_type": "markdown",
   "metadata": {},
   "source": [
    "Decision Tree model has better accuracy on Training and Test set.  Naive Bayes is slightly better on the  Dev Test set. Error rate  for Decision tree model is a lot better than Naive Bayes. Based on these I think Decision Tree model is a better model. Also, creating multiple features sets and analysing their performance on different models will give us better insight. That was something I wanted to do but due to the time constraints I was not able to do that. "
   ]
  }
 ],
 "metadata": {
  "kernelspec": {
   "display_name": "Python 3",
   "language": "python",
   "name": "python3"
  },
  "language_info": {
   "codemirror_mode": {
    "name": "ipython",
    "version": 3
   },
   "file_extension": ".py",
   "mimetype": "text/x-python",
   "name": "python",
   "nbconvert_exporter": "python",
   "pygments_lexer": "ipython3",
   "version": "3.7.3"
  }
 },
 "nbformat": 4,
 "nbformat_minor": 2
}
